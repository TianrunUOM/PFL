{
 "cells": [
  {
   "cell_type": "code",
   "execution_count": 1,
   "metadata": {},
   "outputs": [],
   "source": [
    "import numpy as np\n",
    "\n",
    "# 加载单个客户端的数据文件 - 添加allow_pickle=True参数\n",
    "client_id = 0  # 选择要查看的客户端ID\n",
    "file_test_path = f\"test/{client_id}.npz\"\n",
    "file_train_path = f'train/{client_id}.npz'"
   ]
  },
  {
   "cell_type": "code",
   "execution_count": 2,
   "metadata": {},
   "outputs": [],
   "source": [
    "with open(file_test_path, 'rb') as f:\n",
    "    test_data = np.load(f, allow_pickle=True)['data'].tolist()\n",
    "    \n",
    "with open(file_train_path, 'rb') as f:\n",
    "    train_data = np.load(f, allow_pickle=True)['data'].tolist()"
   ]
  },
  {
   "cell_type": "code",
   "execution_count": 3,
   "metadata": {},
   "outputs": [],
   "source": [
    "import numpy as np\n",
    "import pandas as pd\n",
    "import seaborn as sns\n",
    "import matplotlib.pyplot as plt\n",
    "\n",
    "# 选择要查看的客户端ID\n",
    "client_id = 8  \n",
    "file_test_path = f\"test/{client_id}.npz\"\n",
    "file_train_path = f\"train/{client_id}.npz\"\n",
    "\n",
    "# 加载数据\n",
    "with open(file_train_path, 'rb') as f:\n",
    "    train_data = np.load(f, allow_pickle=True)['data'].item()\n",
    "with open(file_test_path, 'rb') as f:\n",
    "    test_data = np.load(f, allow_pickle=True)['data'].item()\n",
    "\n",
    "\n"
   ]
  },
  {
   "cell_type": "code",
   "execution_count": 4,
   "metadata": {},
   "outputs": [
    {
     "data": {
      "text/plain": [
       "0    877\n",
       "1    450\n",
       "4    414\n",
       "3    180\n",
       "2    105\n",
       "dtype: int64"
      ]
     },
     "execution_count": 4,
     "metadata": {},
     "output_type": "execute_result"
    }
   ],
   "source": [
    "import pandas as pd\n",
    "pd.Series(train_data['data']['y']).value_counts()"
   ]
  },
  {
   "cell_type": "code",
   "execution_count": 5,
   "metadata": {},
   "outputs": [
    {
     "data": {
      "text/plain": [
       "1    269\n",
       "0     97\n",
       "2     60\n",
       "4     54\n",
       "3     23\n",
       "7     13\n",
       "6      7\n",
       "5      3\n",
       "dtype: int64"
      ]
     },
     "execution_count": 5,
     "metadata": {},
     "output_type": "execute_result"
    }
   ],
   "source": [
    "import pandas as pd\n",
    "pd.Series(test_data['data']['y']).value_counts()"
   ]
  },
  {
   "cell_type": "code",
   "execution_count": null,
   "metadata": {},
   "outputs": [],
   "source": []
  },
  {
   "cell_type": "code",
   "execution_count": null,
   "metadata": {},
   "outputs": [],
   "source": []
  }
 ],
 "metadata": {
  "kernelspec": {
   "display_name": "MOE",
   "language": "python",
   "name": "python3"
  },
  "language_info": {
   "codemirror_mode": {
    "name": "ipython",
    "version": 3
   },
   "file_extension": ".py",
   "mimetype": "text/x-python",
   "name": "python",
   "nbconvert_exporter": "python",
   "pygments_lexer": "ipython3",
   "version": "3.9.18"
  }
 },
 "nbformat": 4,
 "nbformat_minor": 2
}
